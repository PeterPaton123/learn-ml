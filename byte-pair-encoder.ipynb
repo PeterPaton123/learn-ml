{
 "cells": [
  {
   "cell_type": "markdown",
   "metadata": {},
   "source": [
    "# Byte-Pair Encoding\n",
    "\n",
    "Byte-Pair Encoding is a sub-word level tokeniser.\n",
    "\n",
    "- Normalise the corpus and pre-tokenise\n",
    "- Split the data into word level tokens\n",
    "- Split each token into character level tokens\n",
    "- Recursively:\n",
    "    - Count the number of occurrences of each adjacent token pair in the corpus\n",
    "    - Replace the most frequent token-pair with a single token representing a pairing.\n",
    "- Stop when occurrences drops below a certain level/vocabulary is large enough.\n",
    "\n",
    "Example\n",
    "\n",
    "\"aaabdaaabac\"\n",
    "\n",
    "Tokens: a, b, c, d\n",
    "\n",
    "First pass:\n",
    "1. Occurrences: \"aa\" : 4, \"ab\" : 2, \"bd\": 1: \"da\": 1, \"ba\": 1, \"ac\": 1\n",
    "2. Replace \"aa\" with X\n",
    "3. Tokens: a, b, c, d, X\n",
    "\n",
    "\"XabdXabac\"\n",
    "\n",
    "Second pass:\n",
    "1. Occurrences \"Xa\" : 2, \"ab\" : 2, \"bd\" : 1, \"dX\" : 1, \"ba\" : 1, \"ac\" : 1\n",
    "2. Replace \"Xa\" with Y\n",
    "3. Tokens, a, b, c, d, X, Y\n",
    "\n",
    "\"YbdYbac\"\n",
    "1. Occurrences: \"Yb\": 2, \"bd\" : 1, \"dY\": 1, \"ba\": 1, \"ac\": 1\n",
    "2. Replace \"Yb\" with Z\n",
    "\n",
    "\"ZdZac\""
   ]
  },
  {
   "cell_type": "code",
   "execution_count": 6,
   "metadata": {},
   "outputs": [
    {
     "data": {
      "text/plain": [
       "'aaabdaaabac'"
      ]
     },
     "execution_count": 6,
     "metadata": {},
     "output_type": "execute_result"
    }
   ],
   "source": [
    "from typing import Dict\n",
    "\n",
    "def untokeniser(map_ : Dict[str, str], s : str) -> str:\n",
    "    if (s == \"\"):\n",
    "        return s\n",
    "    if (s[0] in map_):\n",
    "        return untokeniser(map_, map_[s[0]] + s[1:])\n",
    "    return s[0] + untokeniser(map_, s[1:])\n",
    "\n",
    "untokeniser(dict({'X' : \"aa\", 'Y': \"Xa\", 'Z': \"Yb\"}), \"ZdZac\")"
   ]
  },
  {
   "cell_type": "markdown",
   "metadata": {},
   "source": [
    "# Packages for Byte-Pair Encoding\n",
    "\n"
   ]
  },
  {
   "cell_type": "code",
   "execution_count": 15,
   "metadata": {},
   "outputs": [
    {
     "name": "stdout",
     "output_type": "stream",
     "text": [
      "Encoded input: [7252, 397, 6814, 64, 397, 330]\n",
      "Decoded input: aaabdaaabac\n"
     ]
    }
   ],
   "source": [
    "from transformers import AutoTokenizer\n",
    "\n",
    "tokenizer = AutoTokenizer.from_pretrained(\"gpt2\")\n",
    "text = \"aaabdaaabac\"\n",
    "encoded = tokenizer.encode(text, add_special_tokens=True)\n",
    "print(f\"Encoded input: {encoded}\")\n",
    "\n",
    "decoded = tokenizer.decode(encoded)\n",
    "print(f\"Decoded input: {decoded}\")"
   ]
  }
 ],
 "metadata": {
  "kernelspec": {
   "display_name": "venv",
   "language": "python",
   "name": "python3"
  },
  "language_info": {
   "codemirror_mode": {
    "name": "ipython",
    "version": 3
   },
   "file_extension": ".py",
   "mimetype": "text/x-python",
   "name": "python",
   "nbconvert_exporter": "python",
   "pygments_lexer": "ipython3",
   "version": "3.10.13"
  }
 },
 "nbformat": 4,
 "nbformat_minor": 2
}
